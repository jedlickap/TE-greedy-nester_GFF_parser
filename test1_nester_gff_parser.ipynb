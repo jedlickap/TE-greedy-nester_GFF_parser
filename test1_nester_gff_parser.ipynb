{
 "cells": [
  {
   "cell_type": "code",
   "execution_count": 1,
   "metadata": {},
   "outputs": [
    {
     "name": "stdout",
     "output_type": "stream",
     "text": [
      "['1500', '2211', 'ID=DOMAIN 0-0-0;Parent=TE_BASE 0;annot=Class_I::LTR::Ty3/gypsy::chromovirus::CRM GAG_crm;name=GAG;color=#225ea8']\n",
      "ID : DOMAIN 0-0-0\n",
      "Parent : TE_BASE 0\n",
      "annot : Class_I::LTR::Ty3/gypsy::chromovirus::CRM GAG_crm\n",
      "attribute : ID=DOMAIN 0-0-0;Parent=TE_BASE 0;annot=Class_I::LTR::Ty3/gypsy::chromovirus::CRM GAG_crm;name=GAG;color=#225ea8\n",
      "color : #225ea8\n",
      "end : 2211\n",
      "name : GAG\n",
      "start : 1500\n"
     ]
    }
   ],
   "source": [
    "import nester_gff_parser\n",
    "gff = \"all_CRM_LTRsim_99.gff\"\n",
    "gff_dict = nester_gff_parser.fill_in_dict(gff)  # probably so far the best solution\n",
    "gff_obj = nester_gff_parser.dict2obj(gff_dict)\n",
    "gl = nester_gff_parser.gff_line(gff_obj.TE_1010.feature.polypeptide_conserved_region[0])\n",
    "print(gff_obj.TE_1010.feature.polypeptide_conserved_region[0])\n",
    "\n",
    "for r in [t for t in dir(gl) if not t.startswith('__')]:\n",
    "    print(r, \":\", getattr(gl, r))"
   ]
  }
 ],
 "metadata": {
  "interpreter": {
   "hash": "916dbcbb3f70747c44a77c7bcd40155683ae19c65e1c03b4aa3499c5328201f1"
  },
  "kernelspec": {
   "display_name": "Python 3.8.10 64-bit",
   "name": "python3"
  },
  "language_info": {
   "codemirror_mode": {
    "name": "ipython",
    "version": 3
   },
   "file_extension": ".py",
   "mimetype": "text/x-python",
   "name": "python",
   "nbconvert_exporter": "python",
   "pygments_lexer": "ipython3",
   "version": "3.8.10"
  }
 },
 "nbformat": 4,
 "nbformat_minor": 5
}
